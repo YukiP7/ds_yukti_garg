{
 "cells": [
  {
   "cell_type": "code",
   "execution_count": 97,
   "id": "116a57e4",
   "metadata": {},
   "outputs": [],
   "source": [
    "import pandas as pd\n",
    "import numpy as np \n",
    "import matplotlib.pyplot as plt \n",
    "import seaborn as sns \n",
    "\n",
    "%matplotlib inline"
   ]
  },
  {
   "cell_type": "code",
   "execution_count": 98,
   "id": "e692caae",
   "metadata": {},
   "outputs": [],
   "source": [
    "fear_greed = pd.read_csv('fear_greed_index.csv')\n",
    "historical_data = pd.read_csv('historical_data.csv')"
   ]
  },
  {
   "cell_type": "code",
   "execution_count": 99,
   "id": "34f1482b",
   "metadata": {},
   "outputs": [
    {
     "data": {
      "text/html": [
       "<div>\n",
       "<style scoped>\n",
       "    .dataframe tbody tr th:only-of-type {\n",
       "        vertical-align: middle;\n",
       "    }\n",
       "\n",
       "    .dataframe tbody tr th {\n",
       "        vertical-align: top;\n",
       "    }\n",
       "\n",
       "    .dataframe thead th {\n",
       "        text-align: right;\n",
       "    }\n",
       "</style>\n",
       "<table border=\"1\" class=\"dataframe\">\n",
       "  <thead>\n",
       "    <tr style=\"text-align: right;\">\n",
       "      <th></th>\n",
       "      <th>timestamp</th>\n",
       "      <th>value</th>\n",
       "      <th>classification</th>\n",
       "      <th>date</th>\n",
       "    </tr>\n",
       "  </thead>\n",
       "  <tbody>\n",
       "    <tr>\n",
       "      <th>0</th>\n",
       "      <td>1517463000</td>\n",
       "      <td>30</td>\n",
       "      <td>Fear</td>\n",
       "      <td>2018-02-01</td>\n",
       "    </tr>\n",
       "    <tr>\n",
       "      <th>1</th>\n",
       "      <td>1517549400</td>\n",
       "      <td>15</td>\n",
       "      <td>Extreme Fear</td>\n",
       "      <td>2018-02-02</td>\n",
       "    </tr>\n",
       "    <tr>\n",
       "      <th>2</th>\n",
       "      <td>1517635800</td>\n",
       "      <td>40</td>\n",
       "      <td>Fear</td>\n",
       "      <td>2018-02-03</td>\n",
       "    </tr>\n",
       "    <tr>\n",
       "      <th>3</th>\n",
       "      <td>1517722200</td>\n",
       "      <td>24</td>\n",
       "      <td>Extreme Fear</td>\n",
       "      <td>2018-02-04</td>\n",
       "    </tr>\n",
       "    <tr>\n",
       "      <th>4</th>\n",
       "      <td>1517808600</td>\n",
       "      <td>11</td>\n",
       "      <td>Extreme Fear</td>\n",
       "      <td>2018-02-05</td>\n",
       "    </tr>\n",
       "  </tbody>\n",
       "</table>\n",
       "</div>"
      ],
      "text/plain": [
       "    timestamp  value classification        date\n",
       "0  1517463000     30           Fear  2018-02-01\n",
       "1  1517549400     15   Extreme Fear  2018-02-02\n",
       "2  1517635800     40           Fear  2018-02-03\n",
       "3  1517722200     24   Extreme Fear  2018-02-04\n",
       "4  1517808600     11   Extreme Fear  2018-02-05"
      ]
     },
     "execution_count": 99,
     "metadata": {},
     "output_type": "execute_result"
    }
   ],
   "source": [
    "# Explore Fear & Greed Index\n",
    "fear_greed.head()"
   ]
  },
  {
   "cell_type": "code",
   "execution_count": 100,
   "id": "fabb589b",
   "metadata": {},
   "outputs": [
    {
     "name": "stdout",
     "output_type": "stream",
     "text": [
      "<class 'pandas.core.frame.DataFrame'>\n",
      "RangeIndex: 2644 entries, 0 to 2643\n",
      "Data columns (total 4 columns):\n",
      " #   Column          Non-Null Count  Dtype \n",
      "---  ------          --------------  ----- \n",
      " 0   timestamp       2644 non-null   int64 \n",
      " 1   value           2644 non-null   int64 \n",
      " 2   classification  2644 non-null   object\n",
      " 3   date            2644 non-null   object\n",
      "dtypes: int64(2), object(2)\n",
      "memory usage: 82.8+ KB\n"
     ]
    }
   ],
   "source": [
    "fear_greed.info()"
   ]
  },
  {
   "cell_type": "code",
   "execution_count": 101,
   "id": "59a0840d",
   "metadata": {},
   "outputs": [],
   "source": [
    "fear_greed['date'] = pd.to_datetime(fear_greed['date'])"
   ]
  },
  {
   "cell_type": "code",
   "execution_count": 102,
   "id": "0375a4a7",
   "metadata": {},
   "outputs": [
    {
     "name": "stdout",
     "output_type": "stream",
     "text": [
      "<class 'pandas.core.frame.DataFrame'>\n",
      "RangeIndex: 2644 entries, 0 to 2643\n",
      "Data columns (total 4 columns):\n",
      " #   Column          Non-Null Count  Dtype         \n",
      "---  ------          --------------  -----         \n",
      " 0   timestamp       2644 non-null   int64         \n",
      " 1   value           2644 non-null   int64         \n",
      " 2   classification  2644 non-null   object        \n",
      " 3   date            2644 non-null   datetime64[ns]\n",
      "dtypes: datetime64[ns](1), int64(2), object(1)\n",
      "memory usage: 82.8+ KB\n"
     ]
    }
   ],
   "source": [
    "fear_greed.info()"
   ]
  },
  {
   "cell_type": "code",
   "execution_count": 103,
   "id": "c7350a7a",
   "metadata": {},
   "outputs": [
    {
     "data": {
      "text/plain": [
       "np.False_"
      ]
     },
     "execution_count": 103,
     "metadata": {},
     "output_type": "execute_result"
    }
   ],
   "source": [
    "fear_greed.duplicated().any()"
   ]
  },
  {
   "cell_type": "code",
   "execution_count": 104,
   "id": "64a1c1c1",
   "metadata": {},
   "outputs": [
    {
     "data": {
      "text/plain": [
       "classification\n",
       "Fear             781\n",
       "Greed            633\n",
       "Extreme Fear     508\n",
       "Neutral          396\n",
       "Extreme Greed    326\n",
       "Name: count, dtype: int64"
      ]
     },
     "execution_count": 104,
     "metadata": {},
     "output_type": "execute_result"
    }
   ],
   "source": [
    "fear_greed['classification'].value_counts()"
   ]
  },
  {
   "cell_type": "code",
   "execution_count": 105,
   "id": "e79ce1f8",
   "metadata": {},
   "outputs": [],
   "source": [
    "# remove unnecessary columns \n",
    "fear_greed.drop(['timestamp' , 'value'] , axis=1 , inplace=True)"
   ]
  },
  {
   "cell_type": "code",
   "execution_count": 106,
   "id": "921f2a7f",
   "metadata": {},
   "outputs": [
    {
     "data": {
      "text/html": [
       "<div>\n",
       "<style scoped>\n",
       "    .dataframe tbody tr th:only-of-type {\n",
       "        vertical-align: middle;\n",
       "    }\n",
       "\n",
       "    .dataframe tbody tr th {\n",
       "        vertical-align: top;\n",
       "    }\n",
       "\n",
       "    .dataframe thead th {\n",
       "        text-align: right;\n",
       "    }\n",
       "</style>\n",
       "<table border=\"1\" class=\"dataframe\">\n",
       "  <thead>\n",
       "    <tr style=\"text-align: right;\">\n",
       "      <th></th>\n",
       "      <th>Account</th>\n",
       "      <th>Coin</th>\n",
       "      <th>Execution Price</th>\n",
       "      <th>Size Tokens</th>\n",
       "      <th>Size USD</th>\n",
       "      <th>Side</th>\n",
       "      <th>Timestamp IST</th>\n",
       "      <th>Start Position</th>\n",
       "      <th>Direction</th>\n",
       "      <th>Closed PnL</th>\n",
       "      <th>Transaction Hash</th>\n",
       "      <th>Order ID</th>\n",
       "      <th>Crossed</th>\n",
       "      <th>Fee</th>\n",
       "      <th>Trade ID</th>\n",
       "      <th>Timestamp</th>\n",
       "    </tr>\n",
       "  </thead>\n",
       "  <tbody>\n",
       "    <tr>\n",
       "      <th>0</th>\n",
       "      <td>0xae5eacaf9c6b9111fd53034a602c192a04e082ed</td>\n",
       "      <td>@107</td>\n",
       "      <td>7.9769</td>\n",
       "      <td>986.87</td>\n",
       "      <td>7872.16</td>\n",
       "      <td>BUY</td>\n",
       "      <td>02-12-2024 22:50</td>\n",
       "      <td>0.000000</td>\n",
       "      <td>Buy</td>\n",
       "      <td>0.0</td>\n",
       "      <td>0xec09451986a1874e3a980418412fcd0201f500c95bac...</td>\n",
       "      <td>52017706630</td>\n",
       "      <td>True</td>\n",
       "      <td>0.345404</td>\n",
       "      <td>8.950000e+14</td>\n",
       "      <td>1.730000e+12</td>\n",
       "    </tr>\n",
       "    <tr>\n",
       "      <th>1</th>\n",
       "      <td>0xae5eacaf9c6b9111fd53034a602c192a04e082ed</td>\n",
       "      <td>@107</td>\n",
       "      <td>7.9800</td>\n",
       "      <td>16.00</td>\n",
       "      <td>127.68</td>\n",
       "      <td>BUY</td>\n",
       "      <td>02-12-2024 22:50</td>\n",
       "      <td>986.524596</td>\n",
       "      <td>Buy</td>\n",
       "      <td>0.0</td>\n",
       "      <td>0xec09451986a1874e3a980418412fcd0201f500c95bac...</td>\n",
       "      <td>52017706630</td>\n",
       "      <td>True</td>\n",
       "      <td>0.005600</td>\n",
       "      <td>4.430000e+14</td>\n",
       "      <td>1.730000e+12</td>\n",
       "    </tr>\n",
       "    <tr>\n",
       "      <th>2</th>\n",
       "      <td>0xae5eacaf9c6b9111fd53034a602c192a04e082ed</td>\n",
       "      <td>@107</td>\n",
       "      <td>7.9855</td>\n",
       "      <td>144.09</td>\n",
       "      <td>1150.63</td>\n",
       "      <td>BUY</td>\n",
       "      <td>02-12-2024 22:50</td>\n",
       "      <td>1002.518996</td>\n",
       "      <td>Buy</td>\n",
       "      <td>0.0</td>\n",
       "      <td>0xec09451986a1874e3a980418412fcd0201f500c95bac...</td>\n",
       "      <td>52017706630</td>\n",
       "      <td>True</td>\n",
       "      <td>0.050431</td>\n",
       "      <td>6.600000e+14</td>\n",
       "      <td>1.730000e+12</td>\n",
       "    </tr>\n",
       "    <tr>\n",
       "      <th>3</th>\n",
       "      <td>0xae5eacaf9c6b9111fd53034a602c192a04e082ed</td>\n",
       "      <td>@107</td>\n",
       "      <td>7.9874</td>\n",
       "      <td>142.98</td>\n",
       "      <td>1142.04</td>\n",
       "      <td>BUY</td>\n",
       "      <td>02-12-2024 22:50</td>\n",
       "      <td>1146.558564</td>\n",
       "      <td>Buy</td>\n",
       "      <td>0.0</td>\n",
       "      <td>0xec09451986a1874e3a980418412fcd0201f500c95bac...</td>\n",
       "      <td>52017706630</td>\n",
       "      <td>True</td>\n",
       "      <td>0.050043</td>\n",
       "      <td>1.080000e+15</td>\n",
       "      <td>1.730000e+12</td>\n",
       "    </tr>\n",
       "    <tr>\n",
       "      <th>4</th>\n",
       "      <td>0xae5eacaf9c6b9111fd53034a602c192a04e082ed</td>\n",
       "      <td>@107</td>\n",
       "      <td>7.9894</td>\n",
       "      <td>8.73</td>\n",
       "      <td>69.75</td>\n",
       "      <td>BUY</td>\n",
       "      <td>02-12-2024 22:50</td>\n",
       "      <td>1289.488521</td>\n",
       "      <td>Buy</td>\n",
       "      <td>0.0</td>\n",
       "      <td>0xec09451986a1874e3a980418412fcd0201f500c95bac...</td>\n",
       "      <td>52017706630</td>\n",
       "      <td>True</td>\n",
       "      <td>0.003055</td>\n",
       "      <td>1.050000e+15</td>\n",
       "      <td>1.730000e+12</td>\n",
       "    </tr>\n",
       "  </tbody>\n",
       "</table>\n",
       "</div>"
      ],
      "text/plain": [
       "                                      Account  Coin  Execution Price  \\\n",
       "0  0xae5eacaf9c6b9111fd53034a602c192a04e082ed  @107           7.9769   \n",
       "1  0xae5eacaf9c6b9111fd53034a602c192a04e082ed  @107           7.9800   \n",
       "2  0xae5eacaf9c6b9111fd53034a602c192a04e082ed  @107           7.9855   \n",
       "3  0xae5eacaf9c6b9111fd53034a602c192a04e082ed  @107           7.9874   \n",
       "4  0xae5eacaf9c6b9111fd53034a602c192a04e082ed  @107           7.9894   \n",
       "\n",
       "   Size Tokens  Size USD Side     Timestamp IST  Start Position Direction  \\\n",
       "0       986.87   7872.16  BUY  02-12-2024 22:50        0.000000       Buy   \n",
       "1        16.00    127.68  BUY  02-12-2024 22:50      986.524596       Buy   \n",
       "2       144.09   1150.63  BUY  02-12-2024 22:50     1002.518996       Buy   \n",
       "3       142.98   1142.04  BUY  02-12-2024 22:50     1146.558564       Buy   \n",
       "4         8.73     69.75  BUY  02-12-2024 22:50     1289.488521       Buy   \n",
       "\n",
       "   Closed PnL                                   Transaction Hash     Order ID  \\\n",
       "0         0.0  0xec09451986a1874e3a980418412fcd0201f500c95bac...  52017706630   \n",
       "1         0.0  0xec09451986a1874e3a980418412fcd0201f500c95bac...  52017706630   \n",
       "2         0.0  0xec09451986a1874e3a980418412fcd0201f500c95bac...  52017706630   \n",
       "3         0.0  0xec09451986a1874e3a980418412fcd0201f500c95bac...  52017706630   \n",
       "4         0.0  0xec09451986a1874e3a980418412fcd0201f500c95bac...  52017706630   \n",
       "\n",
       "   Crossed       Fee      Trade ID     Timestamp  \n",
       "0     True  0.345404  8.950000e+14  1.730000e+12  \n",
       "1     True  0.005600  4.430000e+14  1.730000e+12  \n",
       "2     True  0.050431  6.600000e+14  1.730000e+12  \n",
       "3     True  0.050043  1.080000e+15  1.730000e+12  \n",
       "4     True  0.003055  1.050000e+15  1.730000e+12  "
      ]
     },
     "execution_count": 106,
     "metadata": {},
     "output_type": "execute_result"
    }
   ],
   "source": [
    "# Explore Historical Trader Data \n",
    "historical_data.head()"
   ]
  },
  {
   "cell_type": "code",
   "execution_count": 107,
   "id": "2f61e5b6",
   "metadata": {},
   "outputs": [
    {
     "name": "stdout",
     "output_type": "stream",
     "text": [
      "<class 'pandas.core.frame.DataFrame'>\n",
      "RangeIndex: 211224 entries, 0 to 211223\n",
      "Data columns (total 16 columns):\n",
      " #   Column            Non-Null Count   Dtype  \n",
      "---  ------            --------------   -----  \n",
      " 0   Account           211224 non-null  object \n",
      " 1   Coin              211224 non-null  object \n",
      " 2   Execution Price   211224 non-null  float64\n",
      " 3   Size Tokens       211224 non-null  float64\n",
      " 4   Size USD          211224 non-null  float64\n",
      " 5   Side              211224 non-null  object \n",
      " 6   Timestamp IST     211224 non-null  object \n",
      " 7   Start Position    211224 non-null  float64\n",
      " 8   Direction         211224 non-null  object \n",
      " 9   Closed PnL        211224 non-null  float64\n",
      " 10  Transaction Hash  211224 non-null  object \n",
      " 11  Order ID          211224 non-null  int64  \n",
      " 12  Crossed           211224 non-null  bool   \n",
      " 13  Fee               211224 non-null  float64\n",
      " 14  Trade ID          211224 non-null  float64\n",
      " 15  Timestamp         211224 non-null  float64\n",
      "dtypes: bool(1), float64(8), int64(1), object(6)\n",
      "memory usage: 24.4+ MB\n"
     ]
    }
   ],
   "source": [
    "historical_data.info()"
   ]
  },
  {
   "cell_type": "code",
   "execution_count": 108,
   "id": "e40958f7",
   "metadata": {},
   "outputs": [
    {
     "data": {
      "text/plain": [
       "np.int64(0)"
      ]
     },
     "execution_count": 108,
     "metadata": {},
     "output_type": "execute_result"
    }
   ],
   "source": [
    "historical_data.isnull().any().sum()"
   ]
  },
  {
   "cell_type": "code",
   "execution_count": 109,
   "id": "9fd2a14e",
   "metadata": {},
   "outputs": [],
   "source": [
    "# Drop unnecessary columns \n",
    "historical_data.drop(['Coin' , 'Direction' , 'Transaction Hash' , 'Order ID' , 'Trade ID' , 'Timestamp' , 'Crossed'] , axis=1 , inplace=True)"
   ]
  },
  {
   "cell_type": "markdown",
   "id": "87c768e2",
   "metadata": {},
   "source": [
    "#### Important columns releated to Historical trader dataset\n",
    "\n",
    "| Column            | Reason                                  |\n",
    "| ----------------- | --------------------------------------- |\n",
    "| `Account`         | To group by trader behavior             |\n",
    "| `Execution Price` | To calculate trade values / trends      |\n",
    "| `Size USD`        | Trade volume — critical                 |\n",
    "| `Side`            | Buy/Sell behavior                       |\n",
    "| `Timestamp IST`   | For date extraction and sentiment merge |\n",
    "| `Closed PnL`      | For profitability analysis              |\n",
    "| `Fee`             | To assess cost/risk of trades           |\n",
    "| `Start Position`  | To analyze risk/exposure                |\n"
   ]
  },
  {
   "cell_type": "code",
   "execution_count": 110,
   "id": "f21345b6",
   "metadata": {},
   "outputs": [
    {
     "name": "stdout",
     "output_type": "stream",
     "text": [
      "<class 'pandas.core.frame.DataFrame'>\n",
      "RangeIndex: 211224 entries, 0 to 211223\n",
      "Data columns (total 9 columns):\n",
      " #   Column           Non-Null Count   Dtype  \n",
      "---  ------           --------------   -----  \n",
      " 0   Account          211224 non-null  object \n",
      " 1   Execution Price  211224 non-null  float64\n",
      " 2   Size Tokens      211224 non-null  float64\n",
      " 3   Size USD         211224 non-null  float64\n",
      " 4   Side             211224 non-null  object \n",
      " 5   Timestamp IST    211224 non-null  object \n",
      " 6   Start Position   211224 non-null  float64\n",
      " 7   Closed PnL       211224 non-null  float64\n",
      " 8   Fee              211224 non-null  float64\n",
      "dtypes: float64(6), object(3)\n",
      "memory usage: 14.5+ MB\n"
     ]
    }
   ],
   "source": [
    "historical_data.info()"
   ]
  },
  {
   "cell_type": "code",
   "execution_count": 111,
   "id": "c44a2cdc",
   "metadata": {},
   "outputs": [],
   "source": [
    "historical_data['date'] = historical_data['Timestamp IST'].str.split(\" \").str[0]\n",
    "\n",
    "# extract standardized date format\n",
    "historical_data['date'] = pd.to_datetime(historical_data['date'] , format='mixed' , dayfirst=True , errors='coerce')\n",
    "historical_data['date'] = historical_data['date'].dt.strftime('%Y-%m-%d')\n",
    "\n",
    "historical_data['date'] = pd.to_datetime(historical_data['date'])\n"
   ]
  },
  {
   "cell_type": "code",
   "execution_count": 112,
   "id": "0938418b",
   "metadata": {},
   "outputs": [],
   "source": [
    "historical_data.drop('Timestamp IST' , axis=1 , inplace=True)"
   ]
  },
  {
   "cell_type": "code",
   "execution_count": 113,
   "id": "aaa2cae9",
   "metadata": {},
   "outputs": [
    {
     "name": "stdout",
     "output_type": "stream",
     "text": [
      "<class 'pandas.core.frame.DataFrame'>\n",
      "RangeIndex: 211224 entries, 0 to 211223\n",
      "Data columns (total 9 columns):\n",
      " #   Column           Non-Null Count   Dtype         \n",
      "---  ------           --------------   -----         \n",
      " 0   Account          211224 non-null  object        \n",
      " 1   Execution Price  211224 non-null  float64       \n",
      " 2   Size Tokens      211224 non-null  float64       \n",
      " 3   Size USD         211224 non-null  float64       \n",
      " 4   Side             211224 non-null  object        \n",
      " 5   Start Position   211224 non-null  float64       \n",
      " 6   Closed PnL       211224 non-null  float64       \n",
      " 7   Fee              211224 non-null  float64       \n",
      " 8   date             211224 non-null  datetime64[ns]\n",
      "dtypes: datetime64[ns](1), float64(6), object(2)\n",
      "memory usage: 14.5+ MB\n"
     ]
    }
   ],
   "source": [
    "historical_data.info()"
   ]
  },
  {
   "cell_type": "code",
   "execution_count": 114,
   "id": "d529abc4",
   "metadata": {},
   "outputs": [
    {
     "data": {
      "text/plain": [
       "np.int64(0)"
      ]
     },
     "execution_count": 114,
     "metadata": {},
     "output_type": "execute_result"
    }
   ],
   "source": [
    "historical_data.duplicated().any().sum()"
   ]
  },
  {
   "cell_type": "code",
   "execution_count": 115,
   "id": "181c1e3e",
   "metadata": {},
   "outputs": [
    {
     "data": {
      "text/html": [
       "<div>\n",
       "<style scoped>\n",
       "    .dataframe tbody tr th:only-of-type {\n",
       "        vertical-align: middle;\n",
       "    }\n",
       "\n",
       "    .dataframe tbody tr th {\n",
       "        vertical-align: top;\n",
       "    }\n",
       "\n",
       "    .dataframe thead th {\n",
       "        text-align: right;\n",
       "    }\n",
       "</style>\n",
       "<table border=\"1\" class=\"dataframe\">\n",
       "  <thead>\n",
       "    <tr style=\"text-align: right;\">\n",
       "      <th></th>\n",
       "      <th>Account</th>\n",
       "      <th>Execution Price</th>\n",
       "      <th>Size Tokens</th>\n",
       "      <th>Size USD</th>\n",
       "      <th>Side</th>\n",
       "      <th>Start Position</th>\n",
       "      <th>Closed PnL</th>\n",
       "      <th>Fee</th>\n",
       "      <th>date</th>\n",
       "      <th>classification</th>\n",
       "    </tr>\n",
       "  </thead>\n",
       "  <tbody>\n",
       "    <tr>\n",
       "      <th>0</th>\n",
       "      <td>0xae5eacaf9c6b9111fd53034a602c192a04e082ed</td>\n",
       "      <td>7.9769</td>\n",
       "      <td>986.87</td>\n",
       "      <td>7872.16</td>\n",
       "      <td>BUY</td>\n",
       "      <td>0.000000</td>\n",
       "      <td>0.0</td>\n",
       "      <td>0.345404</td>\n",
       "      <td>2024-12-02</td>\n",
       "      <td>Extreme Greed</td>\n",
       "    </tr>\n",
       "    <tr>\n",
       "      <th>1</th>\n",
       "      <td>0xae5eacaf9c6b9111fd53034a602c192a04e082ed</td>\n",
       "      <td>7.9800</td>\n",
       "      <td>16.00</td>\n",
       "      <td>127.68</td>\n",
       "      <td>BUY</td>\n",
       "      <td>986.524596</td>\n",
       "      <td>0.0</td>\n",
       "      <td>0.005600</td>\n",
       "      <td>2024-12-02</td>\n",
       "      <td>Extreme Greed</td>\n",
       "    </tr>\n",
       "    <tr>\n",
       "      <th>2</th>\n",
       "      <td>0xae5eacaf9c6b9111fd53034a602c192a04e082ed</td>\n",
       "      <td>7.9855</td>\n",
       "      <td>144.09</td>\n",
       "      <td>1150.63</td>\n",
       "      <td>BUY</td>\n",
       "      <td>1002.518996</td>\n",
       "      <td>0.0</td>\n",
       "      <td>0.050431</td>\n",
       "      <td>2024-12-02</td>\n",
       "      <td>Extreme Greed</td>\n",
       "    </tr>\n",
       "    <tr>\n",
       "      <th>3</th>\n",
       "      <td>0xae5eacaf9c6b9111fd53034a602c192a04e082ed</td>\n",
       "      <td>7.9874</td>\n",
       "      <td>142.98</td>\n",
       "      <td>1142.04</td>\n",
       "      <td>BUY</td>\n",
       "      <td>1146.558564</td>\n",
       "      <td>0.0</td>\n",
       "      <td>0.050043</td>\n",
       "      <td>2024-12-02</td>\n",
       "      <td>Extreme Greed</td>\n",
       "    </tr>\n",
       "    <tr>\n",
       "      <th>4</th>\n",
       "      <td>0xae5eacaf9c6b9111fd53034a602c192a04e082ed</td>\n",
       "      <td>7.9894</td>\n",
       "      <td>8.73</td>\n",
       "      <td>69.75</td>\n",
       "      <td>BUY</td>\n",
       "      <td>1289.488521</td>\n",
       "      <td>0.0</td>\n",
       "      <td>0.003055</td>\n",
       "      <td>2024-12-02</td>\n",
       "      <td>Extreme Greed</td>\n",
       "    </tr>\n",
       "  </tbody>\n",
       "</table>\n",
       "</div>"
      ],
      "text/plain": [
       "                                      Account  Execution Price  Size Tokens  \\\n",
       "0  0xae5eacaf9c6b9111fd53034a602c192a04e082ed           7.9769       986.87   \n",
       "1  0xae5eacaf9c6b9111fd53034a602c192a04e082ed           7.9800        16.00   \n",
       "2  0xae5eacaf9c6b9111fd53034a602c192a04e082ed           7.9855       144.09   \n",
       "3  0xae5eacaf9c6b9111fd53034a602c192a04e082ed           7.9874       142.98   \n",
       "4  0xae5eacaf9c6b9111fd53034a602c192a04e082ed           7.9894         8.73   \n",
       "\n",
       "   Size USD Side  Start Position  Closed PnL       Fee       date  \\\n",
       "0   7872.16  BUY        0.000000         0.0  0.345404 2024-12-02   \n",
       "1    127.68  BUY      986.524596         0.0  0.005600 2024-12-02   \n",
       "2   1150.63  BUY     1002.518996         0.0  0.050431 2024-12-02   \n",
       "3   1142.04  BUY     1146.558564         0.0  0.050043 2024-12-02   \n",
       "4     69.75  BUY     1289.488521         0.0  0.003055 2024-12-02   \n",
       "\n",
       "  classification  \n",
       "0  Extreme Greed  \n",
       "1  Extreme Greed  \n",
       "2  Extreme Greed  \n",
       "3  Extreme Greed  \n",
       "4  Extreme Greed  "
      ]
     },
     "execution_count": 115,
     "metadata": {},
     "output_type": "execute_result"
    }
   ],
   "source": [
    "# Merge both datasets & save the dataset\n",
    "merged_data = pd.merge(historical_data , fear_greed , on='date' , how='inner')\n",
    "merged_data.head()"
   ]
  },
  {
   "cell_type": "code",
   "execution_count": 116,
   "id": "6c859268",
   "metadata": {},
   "outputs": [
    {
     "data": {
      "text/html": [
       "<div>\n",
       "<style scoped>\n",
       "    .dataframe tbody tr th:only-of-type {\n",
       "        vertical-align: middle;\n",
       "    }\n",
       "\n",
       "    .dataframe tbody tr th {\n",
       "        vertical-align: top;\n",
       "    }\n",
       "\n",
       "    .dataframe thead th {\n",
       "        text-align: right;\n",
       "    }\n",
       "</style>\n",
       "<table border=\"1\" class=\"dataframe\">\n",
       "  <thead>\n",
       "    <tr style=\"text-align: right;\">\n",
       "      <th></th>\n",
       "      <th>Account</th>\n",
       "      <th>Execution Price</th>\n",
       "      <th>Size Tokens</th>\n",
       "      <th>Size USD</th>\n",
       "      <th>Side</th>\n",
       "      <th>Start Position</th>\n",
       "      <th>Closed PnL</th>\n",
       "      <th>Fee</th>\n",
       "      <th>date</th>\n",
       "      <th>classification</th>\n",
       "    </tr>\n",
       "  </thead>\n",
       "  <tbody>\n",
       "  </tbody>\n",
       "</table>\n",
       "</div>"
      ],
      "text/plain": [
       "Empty DataFrame\n",
       "Columns: [Account, Execution Price, Size Tokens, Size USD, Side, Start Position, Closed PnL, Fee, date, classification]\n",
       "Index: []"
      ]
     },
     "execution_count": 116,
     "metadata": {},
     "output_type": "execute_result"
    }
   ],
   "source": [
    "merged_data[merged_data['Execution Price']<0]"
   ]
  },
  {
   "cell_type": "code",
   "execution_count": 117,
   "id": "81cdb944",
   "metadata": {},
   "outputs": [
    {
     "data": {
      "text/html": [
       "<div>\n",
       "<style scoped>\n",
       "    .dataframe tbody tr th:only-of-type {\n",
       "        vertical-align: middle;\n",
       "    }\n",
       "\n",
       "    .dataframe tbody tr th {\n",
       "        vertical-align: top;\n",
       "    }\n",
       "\n",
       "    .dataframe thead th {\n",
       "        text-align: right;\n",
       "    }\n",
       "</style>\n",
       "<table border=\"1\" class=\"dataframe\">\n",
       "  <thead>\n",
       "    <tr style=\"text-align: right;\">\n",
       "      <th></th>\n",
       "      <th>Account</th>\n",
       "      <th>Execution Price</th>\n",
       "      <th>Size Tokens</th>\n",
       "      <th>Size USD</th>\n",
       "      <th>Side</th>\n",
       "      <th>Start Position</th>\n",
       "      <th>Closed PnL</th>\n",
       "      <th>Fee</th>\n",
       "      <th>date</th>\n",
       "      <th>classification</th>\n",
       "    </tr>\n",
       "  </thead>\n",
       "  <tbody>\n",
       "  </tbody>\n",
       "</table>\n",
       "</div>"
      ],
      "text/plain": [
       "Empty DataFrame\n",
       "Columns: [Account, Execution Price, Size Tokens, Size USD, Side, Start Position, Closed PnL, Fee, date, classification]\n",
       "Index: []"
      ]
     },
     "execution_count": 117,
     "metadata": {},
     "output_type": "execute_result"
    }
   ],
   "source": [
    "merged_data[merged_data['Size Tokens']<0]"
   ]
  },
  {
   "cell_type": "code",
   "execution_count": 118,
   "id": "aad0b0dc",
   "metadata": {},
   "outputs": [
    {
     "data": {
      "text/html": [
       "<div>\n",
       "<style scoped>\n",
       "    .dataframe tbody tr th:only-of-type {\n",
       "        vertical-align: middle;\n",
       "    }\n",
       "\n",
       "    .dataframe tbody tr th {\n",
       "        vertical-align: top;\n",
       "    }\n",
       "\n",
       "    .dataframe thead th {\n",
       "        text-align: right;\n",
       "    }\n",
       "</style>\n",
       "<table border=\"1\" class=\"dataframe\">\n",
       "  <thead>\n",
       "    <tr style=\"text-align: right;\">\n",
       "      <th></th>\n",
       "      <th>Account</th>\n",
       "      <th>Execution Price</th>\n",
       "      <th>Size Tokens</th>\n",
       "      <th>Size USD</th>\n",
       "      <th>Side</th>\n",
       "      <th>Start Position</th>\n",
       "      <th>Closed PnL</th>\n",
       "      <th>Fee</th>\n",
       "      <th>date</th>\n",
       "      <th>classification</th>\n",
       "    </tr>\n",
       "  </thead>\n",
       "  <tbody>\n",
       "  </tbody>\n",
       "</table>\n",
       "</div>"
      ],
      "text/plain": [
       "Empty DataFrame\n",
       "Columns: [Account, Execution Price, Size Tokens, Size USD, Side, Start Position, Closed PnL, Fee, date, classification]\n",
       "Index: []"
      ]
     },
     "execution_count": 118,
     "metadata": {},
     "output_type": "execute_result"
    }
   ],
   "source": [
    "merged_data[merged_data['Size USD']<0]"
   ]
  },
  {
   "cell_type": "markdown",
   "id": "5dee54b9",
   "metadata": {},
   "source": [
    "| `Start Position` | Meaning                                            |\n",
    "| ---------------- | -------------------------------------------------- |\n",
    "| `= 0`            | No existing position before the trade (new entry)  |\n",
    "| `> 0`            | Long position — trader was **holding** the asset   |\n",
    "| `< 0`            | Short position — trader was **shorting** the asset |\n"
   ]
  },
  {
   "cell_type": "code",
   "execution_count": 119,
   "id": "432b1036",
   "metadata": {},
   "outputs": [
    {
     "data": {
      "text/plain": [
       "(73629, 10)"
      ]
     },
     "execution_count": 119,
     "metadata": {},
     "output_type": "execute_result"
    }
   ],
   "source": [
    "merged_data[merged_data['Start Position']<0].shape"
   ]
  },
  {
   "cell_type": "code",
   "execution_count": 120,
   "id": "b2defb71",
   "metadata": {},
   "outputs": [
    {
     "data": {
      "text/plain": [
       "classification\n",
       "Fear             61837\n",
       "Greed            50303\n",
       "Extreme Greed    39992\n",
       "Neutral          37686\n",
       "Extreme Fear     21400\n",
       "Name: count, dtype: int64"
      ]
     },
     "execution_count": 120,
     "metadata": {},
     "output_type": "execute_result"
    }
   ],
   "source": [
    "merged_data['classification'].value_counts()"
   ]
  },
  {
   "cell_type": "code",
   "execution_count": 121,
   "id": "6eeb491b",
   "metadata": {},
   "outputs": [
    {
     "data": {
      "text/plain": [
       "classification\n",
       "Greed      90295\n",
       "Fear       83237\n",
       "Neutral    37686\n",
       "Name: count, dtype: int64"
      ]
     },
     "execution_count": 121,
     "metadata": {},
     "output_type": "execute_result"
    }
   ],
   "source": [
    "merged_data['classification'] = merged_data['classification'].replace(['Extreme Greed' , 'Extreme Fear'] , ['Greed' , 'Fear'])\n",
    "merged_data['classification'].value_counts()"
   ]
  },
  {
   "cell_type": "code",
   "execution_count": 122,
   "id": "2c3aed44",
   "metadata": {},
   "outputs": [
    {
     "data": {
      "text/plain": [
       "Side\n",
       "SELL    108528\n",
       "BUY     102690\n",
       "Name: count, dtype: int64"
      ]
     },
     "execution_count": 122,
     "metadata": {},
     "output_type": "execute_result"
    }
   ],
   "source": [
    "merged_data['Side'].value_counts()"
   ]
  },
  {
   "cell_type": "code",
   "execution_count": 123,
   "id": "3de774d4",
   "metadata": {},
   "outputs": [],
   "source": [
    "# save the new merged dataset\n",
    "merged_data.to_csv('csv_files/merged_data.csv' , index=False)"
   ]
  },
  {
   "cell_type": "code",
   "execution_count": 124,
   "id": "b3cc1ceb",
   "metadata": {},
   "outputs": [
    {
     "data": {
      "text/html": [
       "<div>\n",
       "<style scoped>\n",
       "    .dataframe tbody tr th:only-of-type {\n",
       "        vertical-align: middle;\n",
       "    }\n",
       "\n",
       "    .dataframe tbody tr th {\n",
       "        vertical-align: top;\n",
       "    }\n",
       "\n",
       "    .dataframe thead th {\n",
       "        text-align: right;\n",
       "    }\n",
       "</style>\n",
       "<table border=\"1\" class=\"dataframe\">\n",
       "  <thead>\n",
       "    <tr style=\"text-align: right;\">\n",
       "      <th></th>\n",
       "      <th>Account</th>\n",
       "      <th>Execution Price</th>\n",
       "      <th>Size Tokens</th>\n",
       "      <th>Size USD</th>\n",
       "      <th>Side</th>\n",
       "      <th>Start Position</th>\n",
       "      <th>Closed PnL</th>\n",
       "      <th>Fee</th>\n",
       "      <th>date</th>\n",
       "      <th>classification</th>\n",
       "    </tr>\n",
       "  </thead>\n",
       "  <tbody>\n",
       "    <tr>\n",
       "      <th>0</th>\n",
       "      <td>0xae5eacaf9c6b9111fd53034a602c192a04e082ed</td>\n",
       "      <td>7.9769</td>\n",
       "      <td>986.87</td>\n",
       "      <td>7872.16</td>\n",
       "      <td>BUY</td>\n",
       "      <td>0.000000</td>\n",
       "      <td>0.0</td>\n",
       "      <td>0.345404</td>\n",
       "      <td>2024-12-02</td>\n",
       "      <td>Greed</td>\n",
       "    </tr>\n",
       "    <tr>\n",
       "      <th>1</th>\n",
       "      <td>0xae5eacaf9c6b9111fd53034a602c192a04e082ed</td>\n",
       "      <td>7.9800</td>\n",
       "      <td>16.00</td>\n",
       "      <td>127.68</td>\n",
       "      <td>BUY</td>\n",
       "      <td>986.524596</td>\n",
       "      <td>0.0</td>\n",
       "      <td>0.005600</td>\n",
       "      <td>2024-12-02</td>\n",
       "      <td>Greed</td>\n",
       "    </tr>\n",
       "    <tr>\n",
       "      <th>2</th>\n",
       "      <td>0xae5eacaf9c6b9111fd53034a602c192a04e082ed</td>\n",
       "      <td>7.9855</td>\n",
       "      <td>144.09</td>\n",
       "      <td>1150.63</td>\n",
       "      <td>BUY</td>\n",
       "      <td>1002.518996</td>\n",
       "      <td>0.0</td>\n",
       "      <td>0.050431</td>\n",
       "      <td>2024-12-02</td>\n",
       "      <td>Greed</td>\n",
       "    </tr>\n",
       "    <tr>\n",
       "      <th>3</th>\n",
       "      <td>0xae5eacaf9c6b9111fd53034a602c192a04e082ed</td>\n",
       "      <td>7.9874</td>\n",
       "      <td>142.98</td>\n",
       "      <td>1142.04</td>\n",
       "      <td>BUY</td>\n",
       "      <td>1146.558564</td>\n",
       "      <td>0.0</td>\n",
       "      <td>0.050043</td>\n",
       "      <td>2024-12-02</td>\n",
       "      <td>Greed</td>\n",
       "    </tr>\n",
       "    <tr>\n",
       "      <th>4</th>\n",
       "      <td>0xae5eacaf9c6b9111fd53034a602c192a04e082ed</td>\n",
       "      <td>7.9894</td>\n",
       "      <td>8.73</td>\n",
       "      <td>69.75</td>\n",
       "      <td>BUY</td>\n",
       "      <td>1289.488521</td>\n",
       "      <td>0.0</td>\n",
       "      <td>0.003055</td>\n",
       "      <td>2024-12-02</td>\n",
       "      <td>Greed</td>\n",
       "    </tr>\n",
       "  </tbody>\n",
       "</table>\n",
       "</div>"
      ],
      "text/plain": [
       "                                      Account  Execution Price  Size Tokens  \\\n",
       "0  0xae5eacaf9c6b9111fd53034a602c192a04e082ed           7.9769       986.87   \n",
       "1  0xae5eacaf9c6b9111fd53034a602c192a04e082ed           7.9800        16.00   \n",
       "2  0xae5eacaf9c6b9111fd53034a602c192a04e082ed           7.9855       144.09   \n",
       "3  0xae5eacaf9c6b9111fd53034a602c192a04e082ed           7.9874       142.98   \n",
       "4  0xae5eacaf9c6b9111fd53034a602c192a04e082ed           7.9894         8.73   \n",
       "\n",
       "   Size USD Side  Start Position  Closed PnL       Fee       date  \\\n",
       "0   7872.16  BUY        0.000000         0.0  0.345404 2024-12-02   \n",
       "1    127.68  BUY      986.524596         0.0  0.005600 2024-12-02   \n",
       "2   1150.63  BUY     1002.518996         0.0  0.050431 2024-12-02   \n",
       "3   1142.04  BUY     1146.558564         0.0  0.050043 2024-12-02   \n",
       "4     69.75  BUY     1289.488521         0.0  0.003055 2024-12-02   \n",
       "\n",
       "  classification  \n",
       "0          Greed  \n",
       "1          Greed  \n",
       "2          Greed  \n",
       "3          Greed  \n",
       "4          Greed  "
      ]
     },
     "execution_count": 124,
     "metadata": {},
     "output_type": "execute_result"
    }
   ],
   "source": [
    "merged_data.head()"
   ]
  },
  {
   "cell_type": "code",
   "execution_count": 125,
   "id": "9ce14a3b",
   "metadata": {},
   "outputs": [
    {
     "name": "stdout",
     "output_type": "stream",
     "text": [
      "<class 'pandas.core.frame.DataFrame'>\n",
      "RangeIndex: 211218 entries, 0 to 211217\n",
      "Data columns (total 10 columns):\n",
      " #   Column           Non-Null Count   Dtype         \n",
      "---  ------           --------------   -----         \n",
      " 0   Account          211218 non-null  object        \n",
      " 1   Execution Price  211218 non-null  float64       \n",
      " 2   Size Tokens      211218 non-null  float64       \n",
      " 3   Size USD         211218 non-null  float64       \n",
      " 4   Side             211218 non-null  object        \n",
      " 5   Start Position   211218 non-null  float64       \n",
      " 6   Closed PnL       211218 non-null  float64       \n",
      " 7   Fee              211218 non-null  float64       \n",
      " 8   date             211218 non-null  datetime64[ns]\n",
      " 9   classification   211218 non-null  object        \n",
      "dtypes: datetime64[ns](1), float64(6), object(3)\n",
      "memory usage: 16.1+ MB\n"
     ]
    }
   ],
   "source": [
    "merged_data.info()"
   ]
  },
  {
   "cell_type": "code",
   "execution_count": 126,
   "id": "bfb234cf",
   "metadata": {},
   "outputs": [
    {
     "data": {
      "text/plain": [
       "np.int64(0)"
      ]
     },
     "execution_count": 126,
     "metadata": {},
     "output_type": "execute_result"
    }
   ],
   "source": [
    "merged_data['date'].isna().sum()"
   ]
  },
  {
   "cell_type": "code",
   "execution_count": 127,
   "id": "34b9ab07",
   "metadata": {},
   "outputs": [
    {
     "data": {
      "text/html": [
       "<div>\n",
       "<style scoped>\n",
       "    .dataframe tbody tr th:only-of-type {\n",
       "        vertical-align: middle;\n",
       "    }\n",
       "\n",
       "    .dataframe tbody tr th {\n",
       "        vertical-align: top;\n",
       "    }\n",
       "\n",
       "    .dataframe thead th {\n",
       "        text-align: right;\n",
       "    }\n",
       "</style>\n",
       "<table border=\"1\" class=\"dataframe\">\n",
       "  <thead>\n",
       "    <tr style=\"text-align: right;\">\n",
       "      <th></th>\n",
       "      <th>Execution Price</th>\n",
       "      <th>Size Tokens</th>\n",
       "      <th>Size USD</th>\n",
       "      <th>Start Position</th>\n",
       "      <th>Closed PnL</th>\n",
       "      <th>Fee</th>\n",
       "      <th>date</th>\n",
       "    </tr>\n",
       "  </thead>\n",
       "  <tbody>\n",
       "    <tr>\n",
       "      <th>count</th>\n",
       "      <td>211218.000000</td>\n",
       "      <td>2.112180e+05</td>\n",
       "      <td>2.112180e+05</td>\n",
       "      <td>2.112180e+05</td>\n",
       "      <td>211218.000000</td>\n",
       "      <td>211218.000000</td>\n",
       "      <td>211218</td>\n",
       "    </tr>\n",
       "    <tr>\n",
       "      <th>mean</th>\n",
       "      <td>11415.047529</td>\n",
       "      <td>4.623341e+03</td>\n",
       "      <td>5.639192e+03</td>\n",
       "      <td>-2.994671e+04</td>\n",
       "      <td>48.549304</td>\n",
       "      <td>1.163960</td>\n",
       "      <td>2025-01-30 23:58:26.735221248</td>\n",
       "    </tr>\n",
       "    <tr>\n",
       "      <th>min</th>\n",
       "      <td>0.000005</td>\n",
       "      <td>8.740000e-07</td>\n",
       "      <td>0.000000e+00</td>\n",
       "      <td>-1.433463e+07</td>\n",
       "      <td>-117990.104100</td>\n",
       "      <td>-1.175712</td>\n",
       "      <td>2023-05-01 00:00:00</td>\n",
       "    </tr>\n",
       "    <tr>\n",
       "      <th>25%</th>\n",
       "      <td>4.858550</td>\n",
       "      <td>2.940000e+00</td>\n",
       "      <td>1.937900e+02</td>\n",
       "      <td>-3.760725e+02</td>\n",
       "      <td>0.000000</td>\n",
       "      <td>0.016121</td>\n",
       "      <td>2024-12-31 00:00:00</td>\n",
       "    </tr>\n",
       "    <tr>\n",
       "      <th>50%</th>\n",
       "      <td>18.280000</td>\n",
       "      <td>3.200000e+01</td>\n",
       "      <td>5.970200e+02</td>\n",
       "      <td>8.477051e+01</td>\n",
       "      <td>0.000000</td>\n",
       "      <td>0.089572</td>\n",
       "      <td>2025-02-24 00:00:00</td>\n",
       "    </tr>\n",
       "    <tr>\n",
       "      <th>75%</th>\n",
       "      <td>101.895000</td>\n",
       "      <td>1.878900e+02</td>\n",
       "      <td>2.058878e+03</td>\n",
       "      <td>9.337697e+03</td>\n",
       "      <td>5.790132</td>\n",
       "      <td>0.393774</td>\n",
       "      <td>2025-04-02 00:00:00</td>\n",
       "    </tr>\n",
       "    <tr>\n",
       "      <th>max</th>\n",
       "      <td>109004.000000</td>\n",
       "      <td>1.582244e+07</td>\n",
       "      <td>3.921431e+06</td>\n",
       "      <td>3.050948e+07</td>\n",
       "      <td>135329.090100</td>\n",
       "      <td>837.471593</td>\n",
       "      <td>2025-05-01 00:00:00</td>\n",
       "    </tr>\n",
       "    <tr>\n",
       "      <th>std</th>\n",
       "      <td>29448.010305</td>\n",
       "      <td>1.042744e+05</td>\n",
       "      <td>3.657557e+04</td>\n",
       "      <td>6.738170e+05</td>\n",
       "      <td>917.989791</td>\n",
       "      <td>6.758948</td>\n",
       "      <td>NaN</td>\n",
       "    </tr>\n",
       "  </tbody>\n",
       "</table>\n",
       "</div>"
      ],
      "text/plain": [
       "       Execution Price   Size Tokens      Size USD  Start Position  \\\n",
       "count    211218.000000  2.112180e+05  2.112180e+05    2.112180e+05   \n",
       "mean      11415.047529  4.623341e+03  5.639192e+03   -2.994671e+04   \n",
       "min           0.000005  8.740000e-07  0.000000e+00   -1.433463e+07   \n",
       "25%           4.858550  2.940000e+00  1.937900e+02   -3.760725e+02   \n",
       "50%          18.280000  3.200000e+01  5.970200e+02    8.477051e+01   \n",
       "75%         101.895000  1.878900e+02  2.058878e+03    9.337697e+03   \n",
       "max      109004.000000  1.582244e+07  3.921431e+06    3.050948e+07   \n",
       "std       29448.010305  1.042744e+05  3.657557e+04    6.738170e+05   \n",
       "\n",
       "          Closed PnL            Fee                           date  \n",
       "count  211218.000000  211218.000000                         211218  \n",
       "mean       48.549304       1.163960  2025-01-30 23:58:26.735221248  \n",
       "min   -117990.104100      -1.175712            2023-05-01 00:00:00  \n",
       "25%         0.000000       0.016121            2024-12-31 00:00:00  \n",
       "50%         0.000000       0.089572            2025-02-24 00:00:00  \n",
       "75%         5.790132       0.393774            2025-04-02 00:00:00  \n",
       "max    135329.090100     837.471593            2025-05-01 00:00:00  \n",
       "std       917.989791       6.758948                            NaN  "
      ]
     },
     "execution_count": 127,
     "metadata": {},
     "output_type": "execute_result"
    }
   ],
   "source": [
    "# Perform EDA and Data visualization\n",
    "merged_data.describe()"
   ]
  },
  {
   "cell_type": "code",
   "execution_count": 128,
   "id": "6c2a901b",
   "metadata": {},
   "outputs": [],
   "source": [
    "# 1. Correlation heatmap\n",
    "plt.figure(figsize=(8,6))\n",
    "sns.heatmap(merged_data.corr(numeric_only=True) ,  annot=True, cmap='coolwarm', fmt=\".2f\")\n",
    "plt.title('Correlation Heatmap (Trader Metrics)')\n",
    "plt.tight_layout()\n",
    "plt.savefig(\"outputs/correlation_heatmap.png\")\n",
    "plt.close()"
   ]
  },
  {
   "cell_type": "code",
   "execution_count": 129,
   "id": "aa0b8a20",
   "metadata": {},
   "outputs": [],
   "source": [
    "# 2. Count of Trades by Sentiment\n",
    "plt.figure(figsize=(6,5))\n",
    "sns.countplot(data=merged_data, x='classification' , hue='classification' )\n",
    "plt.xlabel(\"Sentiment\")\n",
    "plt.title('Trade Count by Market Sentiment')\n",
    "plt.savefig('outputs/trade_count_by_sentiment.png')\n",
    "plt.close()"
   ]
  },
  {
   "cell_type": "code",
   "execution_count": 130,
   "id": "fffe3863",
   "metadata": {},
   "outputs": [],
   "source": [
    "# 3. Avg Closed PnL by Sentiment\n",
    "plt.figure(figsize=(6,5))\n",
    "ax = sns.barplot(data=merged_data, x='classification', y='Closed PnL',estimator='mean' , errorbar=None)\n",
    "ax.bar_label(ax.containers[0] , fmt='%.2f')\n",
    "plt.title('Average Closed PnL by Sentiment')\n",
    "plt.ylabel('Avg Closed PnL')\n",
    "plt.xlabel('Sentiment')\n",
    "plt.savefig('outputs/avg_pnl_by_sentiment.png')\n",
    "plt.close()"
   ]
  },
  {
   "cell_type": "code",
   "execution_count": 131,
   "id": "a7630525",
   "metadata": {},
   "outputs": [
    {
     "data": {
      "text/html": [
       "<div>\n",
       "<style scoped>\n",
       "    .dataframe tbody tr th:only-of-type {\n",
       "        vertical-align: middle;\n",
       "    }\n",
       "\n",
       "    .dataframe tbody tr th {\n",
       "        vertical-align: top;\n",
       "    }\n",
       "\n",
       "    .dataframe thead th {\n",
       "        text-align: right;\n",
       "    }\n",
       "</style>\n",
       "<table border=\"1\" class=\"dataframe\">\n",
       "  <thead>\n",
       "    <tr style=\"text-align: right;\">\n",
       "      <th></th>\n",
       "      <th>mean</th>\n",
       "      <th>median</th>\n",
       "    </tr>\n",
       "    <tr>\n",
       "      <th>classification</th>\n",
       "      <th></th>\n",
       "      <th></th>\n",
       "    </tr>\n",
       "  </thead>\n",
       "  <tbody>\n",
       "    <tr>\n",
       "      <th>Fear</th>\n",
       "      <td>49.212077</td>\n",
       "      <td>0.0</td>\n",
       "    </tr>\n",
       "    <tr>\n",
       "      <th>Greed</th>\n",
       "      <td>53.882281</td>\n",
       "      <td>0.0</td>\n",
       "    </tr>\n",
       "    <tr>\n",
       "      <th>Neutral</th>\n",
       "      <td>34.307718</td>\n",
       "      <td>0.0</td>\n",
       "    </tr>\n",
       "  </tbody>\n",
       "</table>\n",
       "</div>"
      ],
      "text/plain": [
       "                     mean  median\n",
       "classification                   \n",
       "Fear            49.212077     0.0\n",
       "Greed           53.882281     0.0\n",
       "Neutral         34.307718     0.0"
      ]
     },
     "execution_count": 131,
     "metadata": {},
     "output_type": "execute_result"
    }
   ],
   "source": [
    "# Profitability -> Closed Pnl\n",
    "merged_data.groupby('classification')['Closed PnL'].agg(['mean' , 'median'])"
   ]
  },
  {
   "cell_type": "code",
   "execution_count": 132,
   "id": "5fc5ba8e",
   "metadata": {},
   "outputs": [
    {
     "data": {
      "text/html": [
       "<div>\n",
       "<style scoped>\n",
       "    .dataframe tbody tr th:only-of-type {\n",
       "        vertical-align: middle;\n",
       "    }\n",
       "\n",
       "    .dataframe tbody tr th {\n",
       "        vertical-align: top;\n",
       "    }\n",
       "\n",
       "    .dataframe thead th {\n",
       "        text-align: right;\n",
       "    }\n",
       "</style>\n",
       "<table border=\"1\" class=\"dataframe\">\n",
       "  <thead>\n",
       "    <tr style=\"text-align: right;\">\n",
       "      <th>is_Profitable</th>\n",
       "      <th>False</th>\n",
       "      <th>True</th>\n",
       "    </tr>\n",
       "    <tr>\n",
       "      <th>classification</th>\n",
       "      <th></th>\n",
       "      <th></th>\n",
       "    </tr>\n",
       "  </thead>\n",
       "  <tbody>\n",
       "    <tr>\n",
       "      <th>Fear</th>\n",
       "      <td>59.212850</td>\n",
       "      <td>40.787150</td>\n",
       "    </tr>\n",
       "    <tr>\n",
       "      <th>Greed</th>\n",
       "      <td>57.968880</td>\n",
       "      <td>42.031120</td>\n",
       "    </tr>\n",
       "    <tr>\n",
       "      <th>Neutral</th>\n",
       "      <td>60.300907</td>\n",
       "      <td>39.699093</td>\n",
       "    </tr>\n",
       "  </tbody>\n",
       "</table>\n",
       "</div>"
      ],
      "text/plain": [
       "is_Profitable       False      True \n",
       "classification                      \n",
       "Fear            59.212850  40.787150\n",
       "Greed           57.968880  42.031120\n",
       "Neutral         60.300907  39.699093"
      ]
     },
     "execution_count": 132,
     "metadata": {},
     "output_type": "execute_result"
    }
   ],
   "source": [
    "merged_data['is_Profitable'] = merged_data['Closed PnL'] > 0 \n",
    "profit_counts = merged_data.groupby(['classification','is_Profitable']).size().unstack(fill_value=0)\n",
    "\n",
    "# Convert to percentages\n",
    "profit_percent = profit_counts.div(profit_counts.sum(axis=1), axis=0) * 100\n",
    "\n",
    "profit_percent"
   ]
  },
  {
   "cell_type": "code",
   "execution_count": null,
   "id": "5671dd0a",
   "metadata": {},
   "outputs": [],
   "source": [
    "# 4.Plot\n",
    "ax = profit_percent.plot(kind='bar', stacked=True, color=['salmon', 'mediumseagreen'], figsize=(8, 5))\n",
    "plt.title('Profit vs Loss % by Sentiment')\n",
    "plt.ylabel('Percentage of Trades')\n",
    "plt.xlabel('Market Sentiment')\n",
    "plt.legend(['Loss', 'Profit'], title='Trade Outcome')\n",
    "\n",
    "# Annotate the bars with percentages\n",
    "for p in ax.patches:\n",
    "    width = p.get_width()\n",
    "    height = p.get_height()\n",
    "    x = p.get_x()\n",
    "    y = p.get_y()\n",
    "    if height > 0:\n",
    "        ax.text(x + width/2, y + height/2, f'{height:.1f}%', ha='center', va='center', fontsize=10, color='white')\n",
    "\n",
    "plt.tight_layout()\n",
    "plt.savefig('outputs/Profit_Loss_by_sentiment.png')\n",
    "plt.close()"
   ]
  },
  {
   "cell_type": "code",
   "execution_count": 134,
   "id": "8b836985",
   "metadata": {},
   "outputs": [],
   "source": [
    "# 5.Distribution Plot of Closed PnL\n",
    "sns.boxplot(merged_data , x='classification' , y='Closed PnL')\n",
    "plt.savefig('outputs/Distribution_plot_of_closed_pnl.png')\n",
    "plt.close()"
   ]
  },
  {
   "cell_type": "code",
   "execution_count": 135,
   "id": "157c6790",
   "metadata": {},
   "outputs": [],
   "source": [
    "# Classify position type from Start Position\n",
    "def classify_position(x):\n",
    "    if x < 0:\n",
    "        return 'Short'\n",
    "    elif x > 0:\n",
    "        return 'Long'\n",
    "    else:\n",
    "        return 'New Entry'\n",
    "\n",
    "merged_data['position_type'] = merged_data['Start Position'].apply(classify_position)\n",
    "\n",
    "# Create 'leverage proxy' column: Size USD / Start Position (avoid divide-by-zero)\n",
    "merged_data['leverage_proxy'] = merged_data['Size USD'] / (merged_data['Start Position'].replace(0, 1e-6).abs())"
   ]
  },
  {
   "cell_type": "code",
   "execution_count": 155,
   "id": "423e8e8d",
   "metadata": {},
   "outputs": [],
   "source": [
    "# 6.Position-type by Sentiment\n",
    "plt.figure(figsize=(7, 7))\n",
    "ax = sns.countplot(data=merged_data, x='position_type', hue='classification')\n",
    "plt.title(\"Position-type by Sentiment\")\n",
    "plt.xlabel('Position Type')\n",
    "plt.ylabel('Count of Trades')\n",
    "\n",
    "# Annotate bars with 'K' format\n",
    "for p in ax.patches:\n",
    "    height = p.get_height()\n",
    "    if height > 0:\n",
    "        label = f'{height/1000:.1f}K'  # Format like 1.2K\n",
    "        ax.text(\n",
    "            p.get_x() + p.get_width() / 2,\n",
    "            height + (0.01 * height),  # Slight lift above bar\n",
    "            label,\n",
    "            ha='center',\n",
    "            va='bottom',\n",
    "            fontsize=10\n",
    "        )\n",
    "\n",
    "plt.tight_layout()\n",
    "plt.savefig('outputs/PositionType_by_Sentiment.png')\n",
    "plt.close()\n"
   ]
  },
  {
   "cell_type": "code",
   "execution_count": 162,
   "id": "b40c75be",
   "metadata": {},
   "outputs": [
    {
     "data": {
      "text/plain": [
       "classification\n",
       "Fear        5873.495193\n",
       "Greed     -75525.817386\n",
       "Neutral      144.002263\n",
       "Name: Start Position, dtype: float64"
      ]
     },
     "execution_count": 162,
     "metadata": {},
     "output_type": "execute_result"
    }
   ],
   "source": [
    "# Risk :  Avg. Start Position by sentiment \n",
    "avg_start_position = merged_data.groupby('classification')['Start Position'].mean()\n",
    "avg_start_position\n"
   ]
  },
  {
   "cell_type": "code",
   "execution_count": 163,
   "id": "50325455",
   "metadata": {},
   "outputs": [
    {
     "data": {
      "text/html": [
       "<div>\n",
       "<style scoped>\n",
       "    .dataframe tbody tr th:only-of-type {\n",
       "        vertical-align: middle;\n",
       "    }\n",
       "\n",
       "    .dataframe tbody tr th {\n",
       "        vertical-align: top;\n",
       "    }\n",
       "\n",
       "    .dataframe thead th {\n",
       "        text-align: right;\n",
       "    }\n",
       "</style>\n",
       "<table border=\"1\" class=\"dataframe\">\n",
       "  <thead>\n",
       "    <tr style=\"text-align: right;\">\n",
       "      <th></th>\n",
       "      <th>sum</th>\n",
       "      <th>mean</th>\n",
       "    </tr>\n",
       "    <tr>\n",
       "      <th>classification</th>\n",
       "      <th></th>\n",
       "      <th></th>\n",
       "    </tr>\n",
       "  </thead>\n",
       "  <tbody>\n",
       "    <tr>\n",
       "      <th>Fear</th>\n",
       "      <td>5.978091e+08</td>\n",
       "      <td>7182.011019</td>\n",
       "    </tr>\n",
       "    <tr>\n",
       "      <th>Greed</th>\n",
       "      <td>4.130477e+08</td>\n",
       "      <td>4574.424490</td>\n",
       "    </tr>\n",
       "    <tr>\n",
       "      <th>Neutral</th>\n",
       "      <td>1.802421e+08</td>\n",
       "      <td>4782.732661</td>\n",
       "    </tr>\n",
       "  </tbody>\n",
       "</table>\n",
       "</div>"
      ],
      "text/plain": [
       "                         sum         mean\n",
       "classification                           \n",
       "Fear            5.978091e+08  7182.011019\n",
       "Greed           4.130477e+08  4574.424490\n",
       "Neutral         1.802421e+08  4782.732661"
      ]
     },
     "execution_count": 163,
     "metadata": {},
     "output_type": "execute_result"
    }
   ],
   "source": [
    "# Volume : Trade Size \n",
    "merged_data.groupby('classification')['Size USD'].agg(['sum' , 'mean'])"
   ]
  },
  {
   "cell_type": "code",
   "execution_count": 166,
   "id": "023ec67a",
   "metadata": {},
   "outputs": [],
   "source": [
    "# 7. Trade Size by sentiment \n",
    "sns.boxplot(merged_data , x='classification' , y='Size USD')\n",
    "plt.title('Trade Size by Market Sentiment')\n",
    "plt.savefig('outputs/trade_size_by_sentiment.png')\n",
    "plt.close()"
   ]
  },
  {
   "cell_type": "code",
   "execution_count": null,
   "id": "f691ace8",
   "metadata": {},
   "outputs": [
    {
     "name": "stderr",
     "output_type": "stream",
     "text": [
      "C:\\Users\\gargy\\AppData\\Local\\Temp\\ipykernel_22784\\4107507203.py:3: FutureWarning: \n",
      "\n",
      "The `ci` parameter is deprecated. Use `errorbar=None` for the same effect.\n",
      "\n",
      "  sns.barplot(data=merged_data, x='classification', y='leverage_proxy', estimator='mean', ci=None, palette='Set2')\n",
      "C:\\Users\\gargy\\AppData\\Local\\Temp\\ipykernel_22784\\4107507203.py:3: FutureWarning: \n",
      "\n",
      "Passing `palette` without assigning `hue` is deprecated and will be removed in v0.14.0. Assign the `x` variable to `hue` and set `legend=False` for the same effect.\n",
      "\n",
      "  sns.barplot(data=merged_data, x='classification', y='leverage_proxy', estimator='mean', ci=None, palette='Set2')\n"
     ]
    }
   ],
   "source": [
    "# 8. Avg. Leverage Proxy by Sentiment\n",
    "plt.figure(figsize=(7,5))\n",
    "sns.barplot(data=merged_data, x='classification', y='leverage_proxy', estimator='mean', ci=None, palette='Set2')\n",
    "plt.title('Average Leverage Proxy by Sentiment')\n",
    "plt.ylabel('Avg Leverage (USD / Start Position)')\n",
    "plt.savefig(\"outputs/avg_leverage_by_sentiment.png\")\n",
    "# plt.show()\n",
    "plt.close()"
   ]
  },
  {
   "cell_type": "code",
   "execution_count": null,
   "id": "2a69446a",
   "metadata": {},
   "outputs": [],
   "source": [
    "# 9. Daily Trade Count\n",
    "daily_trades = merged_data.groupby('date').size().reset_index(name='trade_count')\n",
    "\n",
    "plt.figure(figsize=(10, 4))\n",
    "sns.lineplot(data=daily_trades, x='date', y='trade_count', color='steelblue')\n",
    "plt.title('Daily Trade Count Over Time')\n",
    "plt.ylabel('Number of Trades')\n",
    "plt.xlabel('Date')\n",
    "plt.tight_layout()\n",
    "plt.savefig(\"outputs/daily_trade_count.png\")\n",
    "plt.close()"
   ]
  },
  {
   "cell_type": "code",
   "execution_count": 177,
   "id": "6e15be21",
   "metadata": {},
   "outputs": [],
   "source": [
    "# 10. Daily Avg. PnL\n",
    "daily_pnl = merged_data.groupby('date')['Closed PnL'].mean().reset_index()\n",
    "\n",
    "plt.figure(figsize=(10, 4))\n",
    "sns.lineplot(data=daily_pnl, x='date', y='Closed PnL', color='green')\n",
    "plt.title('Daily Average PnL Over Time')\n",
    "plt.ylabel('Average Closed PnL')\n",
    "plt.xlabel('Date')\n",
    "plt.tight_layout()\n",
    "plt.savefig(\"outputs/daily_avg_pnl.png\")\n",
    "plt.close()"
   ]
  },
  {
   "cell_type": "code",
   "execution_count": 183,
   "id": "0a167739",
   "metadata": {},
   "outputs": [],
   "source": [
    "# 11.Daily Sentiment Frequency\n",
    "daily_sentiment = merged_data.groupby(['date', 'classification']).size().unstack(fill_value=0)\n",
    "daily_sentiment.plot(kind='line', figsize=(10, 4))\n",
    "plt.title('Daily Sentiment Frequency')\n",
    "plt.ylabel('Count')\n",
    "plt.xlabel('Date')\n",
    "plt.tight_layout()\n",
    "plt.savefig(\"outputs/daily_sentiment_trend.png\")\n",
    "plt.close()"
   ]
  },
  {
   "cell_type": "code",
   "execution_count": null,
   "id": "191ea9f6",
   "metadata": {},
   "outputs": [],
   "source": []
  }
 ],
 "metadata": {
  "kernelspec": {
   "display_name": "venv",
   "language": "python",
   "name": "python3"
  },
  "language_info": {
   "codemirror_mode": {
    "name": "ipython",
    "version": 3
   },
   "file_extension": ".py",
   "mimetype": "text/x-python",
   "name": "python",
   "nbconvert_exporter": "python",
   "pygments_lexer": "ipython3",
   "version": "3.12.0"
  }
 },
 "nbformat": 4,
 "nbformat_minor": 5
}
